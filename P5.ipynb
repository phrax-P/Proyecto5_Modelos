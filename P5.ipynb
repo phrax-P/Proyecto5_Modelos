{
 "cells": [
  {
   "cell_type": "markdown",
   "metadata": {},
   "source": [
    "---\n",
    "### Universidad de Costa Rica\n",
    "#### IE0405 - Modelos Probabilísticos de Señales y Sistemas\n",
    "\n",
    "Primer semestre del 2022\n",
    "\n",
    "---\n",
    "\n",
    "* Estudiante: **Daniel Alejandro Rodríguez Alvarado,Kenny Wu Wen y Yanelis Salazar Rodríguez**\n",
    "* Carné: **C06575, C08592, B66520**\n",
    "* Grupo: **1/2**\n",
    "\n",
    "---\n",
    "# `P5` - *Cadenas de Markov*\n",
    "\n",
    "> Como un caso especial de los procesos aleatorios donde existen \"estados\" y \"transiciones\" entre estos estados, las cadenas de Markov modelan las probabilidades de transición y el tiempo de permanencia entre cada estado. En particular, la teoría de colas describe la evolución del número de elementos en la fila, dado un flujo de entrada y un flujo de salida.\n",
    "\n",
    "---"
   ]
  },
  {
   "cell_type": "markdown",
   "metadata": {},
   "source": [
    "## 1. - Procesos de nacimiento y muerte\n",
    "\n",
    "Los procesos de nacimiento y muerte son un caso especial de las cadenas de Markov donde las transiciones solamente pueden ocurrir de un estado $i$ a un estado $i + 1$ (\"nacimiento\" o llegada) o $i - 1$ (\"muerte\" o salida). \n",
    "\n",
    "- Las llegadas están modeladas con un parámetro $\\lambda$ de un proceso de Poisson, también llamado \"intensidad\".\n",
    "- Las salidas, o tiempo de servicio, están modeladas exponencialmente con un parámetro $\\nu$.\n",
    "\n",
    "Dos componentes de este sistema son aleatorios:\n",
    "\n",
    "- El **tiempo** que tarda \"la máquina\" (el sistema) en el estado $i$, que está modelado exponencialmente con un parámetro $\\Omega_i$.\n",
    "- La **transición** que hará de ese estado, que puede ser \"hacia arriba\" ($i+1$) con probabilidad $p_i$ o \"hacia abajo\" ($i-1$) con probabilidad $q_i$.\n",
    "\n",
    "Generalmente es necesario encontrar la expresión para $\\Omega_i$, $p_i$ y $q_i$ en términos de $\\lambda$ y $\\nu$ para conocer mejor la dinámica del sistema."
   ]
  },
  {
   "cell_type": "markdown",
   "metadata": {},
   "source": [
    "---\n",
    "## 2. - Asignaciones del proyecto\n",
    "\n",
    "### 2.1. - Problema de la gasolinera\n",
    "\n",
    "> Supóngase que hay una gasolinera con tres entradas, los autos que entran arriban en forman de una corriente de Poisson con parámetro $\\lambda$. La entrada norte tiene tasa de llegada de dos autos por minuto, la entrada este tiene una intensidad de dos autos por minuto y la entrada sur tiene un parámetro de un auto por minuto. El tiempo de servicio de cada dispensador de gasolina está exponencialmente distribuido con parámetro $\\nu$ autos por minuto. El estado $X_t$ en el tiempo $t$ es la longitud de la cola. Inicialmente, en la gasolinera se enuentran tres dispensadores de gasolina funcionando pero, si la fila sobrepasa los cinco automóviles, abren otros dos dispensadores más. \n",
    "\n",
    "Suponga que el parámetro $\\nu$ es la mediana entre los últimos dígitos del número de carné universitario de quienes realizan este proyecto. Ejemplo: A1384**3**, B8364**8** y C2317**7** tienen una mediana de 7.\n",
    "\n",
    "- (30%) Encuentre los valores $p_i$, $q_i$ y $\\Omega_i$ del espacio de estados anteriormente descrito."
   ]
  },
  {
   "cell_type": "markdown",
   "metadata": {},
   "source": [
    "$$\n",
    "S_i = \n",
    "\\begin{cases}\n",
    "            \\Omega = \\lambda & \\quad p=1 & q=0, &    \\text{si} \\quad i = 0 \\\\\n",
    "            \\Omega = \\lambda +3\\nu& \\quad p=\\frac{\\lambda}{\\lambda+3\\nu} & q=\\frac{3\\nu}{\\lambda+3\\nu}, &    \\text{si} \\quad 1\\le i\\le5 \\\\\n",
    "            \\Omega = \\lambda +5\\nu & \\quad p=\\frac{\\lambda}{\\lambda+5\\nu} & q=\\frac{5\\nu}{\\lambda+5\\nu}, &    \\text{si} \\quad i> 5 \\\\\n",
    "\\end{cases}\n",
    "$$\n",
    "\n",
    "Sustituyendo por $\\lambda = 5$ y $\\nu=2$\n",
    "$$\n",
    "S_i = \n",
    "\\begin{cases}\n",
    "            \\Omega = 5 & \\quad p=1 & q=0, &    \\text{si} \\quad i = 0 \\\\\n",
    "            \\Omega = 11 & \\quad p=0.\\bar{45} & q=0.\\bar{54}, &    \\text{si} \\quad 1\\le i\\le5 \\\\\n",
    "            \\Omega = 15 & \\quad p=0.\\bar{33} & q=0.67, &    \\text{si} \\quad i> 5 \\\\\n",
    "\\end{cases}\n",
    "$$\n"
   ]
  },
  {
   "cell_type": "markdown",
   "metadata": {},
   "source": [
    "### 2.2. - Simulaciones\n",
    "\n",
    "- (30%) Diseñe una simulación tal que encuentre la duración promedio del estado $i$ y compárelo con el valor $1/\\Omega_i$ calculado anteriormente, tanto para un número $i$ menor a cinco, como para un número $i$ mayor a cinco."
   ]
  },
  {
   "cell_type": "code",
   "execution_count": 101,
   "metadata": {},
   "outputs": [
    {
     "name": "stdout",
     "output_type": "stream",
     "text": [
      "1/Ω:  [0.19420361414446646, 0.08893465455247455, 0.05809993755533138]\n"
     ]
    }
   ],
   "source": [
    "import numpy as np\n",
    "import matplotlib.pyplot as plt\n",
    "\n",
    "def random_walk(muestras):\n",
    "\n",
    "    # Parámetros\n",
    "    lmbda = 5\n",
    "    nu = 2 # X\n",
    "\n",
    "    # Arrays con historial de estados y tiempo en cada uno\n",
    "    estados = np.zeros(muestras)\n",
    "    tiempos = np.zeros(muestras)\n",
    "    start_state = 0\n",
    "    prev_state = start_state\n",
    "    Omega_inv1, Omega_inv2, Omega_inv3 = [], [], []\n",
    "\n",
    "    # Ciclo del random walk\n",
    "    for i in range(muestras):\n",
    "        # Caso i=0\n",
    "        if prev_state == 0:\n",
    "            curr_state = 1 # únicamente puede crecer la cola\n",
    "            Omega = lmbda\n",
    "            tiempos[i] = np.random.exponential(1/Omega) # alv tremenda función :V np.random.exponential(parámetro) la verdad si :o\n",
    "            Omega_inv1.append(tiempos[i])\n",
    "        # Caso 1 <= i <= 5 \n",
    "        elif (1 <= prev_state <= 5):\n",
    "            curr_state = np.random.choice((prev_state-1, prev_state + 1), p = (3*nu/(lmbda + 3*nu), lmbda/(lmbda + 3*nu))) # np.random.choice(evento, prob)\n",
    "            Omega = lmbda + 3*nu\n",
    "            tiempos[i] = np.random.exponential(1/Omega)\n",
    "            Omega_inv2.append(tiempos[i])\n",
    "        # Caso i>=5 \n",
    "        else:\n",
    "            curr_state = np.random.choice((prev_state-1, prev_state + 1), p = (5*nu/(lmbda + 5*nu), lmbda/(lmbda + 5*nu)))\n",
    "            Omega = lmbda + 5*nu\n",
    "            tiempos[i] = np.random.exponential(1/Omega)\n",
    "            Omega_inv3.append(tiempos[i])\n",
    "        \n",
    "        estados[i] = prev_state\n",
    "        prev_state = curr_state   \n",
    "    Omega_inv = [np.mean(Omega_inv1), np.mean(Omega_inv2), np.mean(Omega_inv3)]\n",
    "    return estados, tiempos, Omega_inv\n",
    "\n",
    "Omega_inv = random_walk(1000)[2]\n",
    "print('1/Ω: ', Omega_inv)\n"
   ]
  },
  {
   "cell_type": "markdown",
   "metadata": {},
   "source": [
    "- (40%) Diseñe una simulación tal que muestre, por medio de una gráfica, la longitud de la cola a lo largo de 30 minutos."
   ]
  },
  {
   "cell_type": "code",
   "execution_count": 102,
   "metadata": {},
   "outputs": [
    {
     "data": {
      "image/png": "[encoded data removed]",
      "text/plain": [
       "<Figure size 1440x360 with 1 Axes>"
      ]
     },
     "metadata": {
      "needs_background": "light"
     },
     "output_type": "display_data"
    }
   ],
   "source": [
    "# No le di mucha mente, luego reviso si está mal\n",
    "estados, tiempos, Omega_inv = random_walk(1000) \n",
    "t = np.array([sum(tiempos[0:x]) for x in range(len(estados))])\n",
    "fig, (ax1) = plt.subplots(nrows=1, sharex=True, figsize=(20, 7))\n",
    "# Gráfica\n",
    "\n",
    "ax1.step(t, estados, where = 'post')\n",
    "ax1.set_xlim(0, 30)\n",
    "ax1.set_ylabel(\"Estado $S_i$\")\n",
    "ax1.set_xlabel(\"Tiempo (min)\")\n",
    "ax1.grid()\n",
    "ax1.show()"
   ]
  },
  {
   "cell_type": "markdown",
   "metadata": {},
   "source": [
    "---\n",
    "**Universidad de Costa Rica** | Facultad de Ingeniería | Escuela de Ingeniería Eléctrica\n",
    "\n",
    "&copy; 2022\n",
    "\n",
    "---"
   ]
  }
 ],
 "metadata": {
  "kernelspec": {
   "display_name": "Python 3.8.3 ('base')",
   "language": "python",
   "name": "python3"
  },
  "language_info": {
   "codemirror_mode": {
    "name": "ipython",
    "version": 3
   },
   "file_extension": ".py",
   "mimetype": "text/x-python",
   "name": "python",
   "nbconvert_exporter": "python",
   "pygments_lexer": "ipython3",
   "version": "3.8.3"
  },
  "vscode": {
   "interpreter": {
    "hash": "ad09b60750cd10c49c41504d70efed899c84b09b0261668bb897ed3bf0f9f6e8"
   }
  }
 },
 "nbformat": 4,
 "nbformat_minor": 2
}
