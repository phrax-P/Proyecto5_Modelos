{
 "cells": [
  {
   "cell_type": "markdown",
   "metadata": {},
   "source": [
    "---\n",
    "### Universidad de Costa Rica\n",
    "#### IE0405 - Modelos Probabilísticos de Señales y Sistemas\n",
    "\n",
    "Primer semestre del 2022\n",
    "\n",
    "---\n",
    "\n",
    "* Estudiante: **Kenny Wu Wen**\n",
    "* Carné: **C08592**\n",
    "* Grupo: **1/2**\n",
    "\n",
    "---\n",
    "# `P5` - *Cadenas de Markov*\n",
    "\n",
    "> Como un caso especial de los procesos aleatorios donde existen \"estados\" y \"transiciones\" entre estos estados, las cadenas de Markov modelan las probabilidades de transición y el tiempo de permanencia entre cada estado. En particular, la teoría de colas describe la evolución del número de elementos en la fila, dado un flujo de entrada y un flujo de salida.\n",
    "\n",
    "---"
   ]
  },
  {
   "cell_type": "markdown",
   "metadata": {},
   "source": [
    "## 1. - Procesos de nacimiento y muerte\n",
    "\n",
    "Los procesos de nacimiento y muerte son un caso especial de las cadenas de Markov donde las transiciones solamente pueden ocurrir de un estado $i$ a un estado $i + 1$ (\"nacimiento\" o llegada) o $i - 1$ (\"muerte\" o salida). \n",
    "\n",
    "- Las llegadas están modeladas con un parámetro $\\lambda$ de un proceso de Poisson, también llamado \"intensidad\".\n",
    "- Las salidas, o tiempo de servicio, están modeladas exponencialmente con un parámetro $\\nu$.\n",
    "\n",
    "Dos componentes de este sistema son aleatorios:\n",
    "\n",
    "- El **tiempo** que tarda \"la máquina\" (el sistema) en el estado $i$, que está modelado exponencialmente con un parámetro $\\Omega_i$.\n",
    "- La **transición** que hará de ese estado, que puede ser \"hacia arriba\" ($i+1$) con probabilidad $p_i$ o \"hacia abajo\" ($i-1$) con probabilidad $q_i$.\n",
    "\n",
    "Generalmente es necesario encontrar la expresión para $\\Omega_i$, $p_i$ y $q_i$ en términos de $\\lambda$ y $\\nu$ para conocer mejor la dinámica del sistema."
   ]
  },
  {
   "cell_type": "markdown",
   "metadata": {},
   "source": [
    "---\n",
    "## 2. - Asignaciones del proyecto\n",
    "\n",
    "### 2.1. - Problema de la gasolinera\n",
    "\n",
    "> Supóngase que hay una gasolinera con tres entradas, los autos que entran arriban en forman de una corriente de Poisson con parámetro $\\lambda$. La entrada norte tiene tasa de llegada de dos autos por minuto, la entrada este tiene una intensidad de dos autos por minuto y la entrada sur tiene un parámetro de un auto por minuto. El tiempo de servicio de cada dispensador de gasolina está exponencialmente distribuido con parámetro $\\nu$ autos por minuto. El estado $X_t$ en el tiempo $t$ es la longitud de la cola. Inicialmente, en la gasolinera se enuentran tres dispensadores de gasolina funcionando pero, si la fila sobrepasa los cinco automóviles, abren otros dos dispensadores más. \n",
    "\n",
    "Suponga que el parámetro $\\nu$ es la mediana entre los últimos dígitos del número de carné universitario de quienes realizan este proyecto. Ejemplo: A1384**3**, B8364**8** y C2317**7** tienen una mediana de 7.\n",
    "\n",
    "- (30%) Encuentre los valores $p_i$, $q_i$ y $\\Omega_i$ del espacio de estados anteriormente descrito.\n",
    "\n",
    "### 2.2. - Simulaciones\n",
    "\n",
    "- (30%) Diseñe una simulación tal que encuentre la duración promedio del estado $i$ y compárelo con el valor $1/\\Omega_i$ calculado anteriormente, tanto para un número $i$ menor a cinco, como para un número $i$ mayor a cinco.\n",
    "- (40%) Diseñe una simulación tal que muestre, por medio de una gráfica, la longitud de la cola a lo largo de 30 minutos.\n",
    "\n",
    "#### Entrega de resultados\n",
    "\n",
    "Crear un *notebook* nuevo de Jupyter y exportar como HTML."
   ]
  },
  {
   "cell_type": "markdown",
   "metadata": {},
   "source": [
    "---\n",
    "**Universidad de Costa Rica** | Facultad de Ingeniería | Escuela de Ingeniería Eléctrica\n",
    "\n",
    "&copy; 2022\n",
    "\n",
    "---"
   ]
  }
 ],
 "metadata": {
  "kernelspec": {
   "display_name": "Python 3 (ipykernel)",
   "language": "python",
   "name": "python3"
  },
  "language_info": {
   "codemirror_mode": {
    "name": "ipython",
    "version": 3
   },
   "file_extension": ".py",
   "mimetype": "text/x-python",
   "name": "python",
   "nbconvert_exporter": "python",
   "pygments_lexer": "ipython3",
   "version": "3.9.12"
  }
 },
 "nbformat": 4,
 "nbformat_minor": 2
}
