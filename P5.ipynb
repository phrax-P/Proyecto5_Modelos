{
 "cells": [
  {
   "cell_type": "markdown",
   "metadata": {},
   "source": [
    "---\n",
    "### Universidad de Costa Rica\n",
    "#### IE0405 - Modelos Probabilísticos de Señales y Sistemas\n",
    "\n",
    "Primer semestre del 2022\n",
    "\n",
    "---\n",
    "\n",
    "* Estudiante: **Daniel Alejandro Rodríguez Alvarado y Kenny Wu Wen**\n",
    "* Carné: **C06575 y C08592**\n",
    "* Grupo: **1/2**\n",
    "\n",
    "---\n",
    "# `P5` - *Cadenas de Markov*\n",
    "\n",
    "> Como un caso especial de los procesos aleatorios donde existen \"estados\" y \"transiciones\" entre estos estados, las cadenas de Markov modelan las probabilidades de transición y el tiempo de permanencia entre cada estado. En particular, la teoría de colas describe la evolución del número de elementos en la fila, dado un flujo de entrada y un flujo de salida.\n",
    "\n",
    "---"
   ]
  },
  {
   "cell_type": "markdown",
   "metadata": {},
   "source": [
    "## 1. - Procesos de nacimiento y muerte\n",
    "\n",
    "Los procesos de nacimiento y muerte son un caso especial de las cadenas de Markov donde las transiciones solamente pueden ocurrir de un estado $i$ a un estado $i + 1$ (\"nacimiento\" o llegada) o $i - 1$ (\"muerte\" o salida). \n",
    "\n",
    "- Las llegadas están modeladas con un parámetro $\\lambda$ de un proceso de Poisson, también llamado \"intensidad\".\n",
    "- Las salidas, o tiempo de servicio, están modeladas exponencialmente con un parámetro $\\nu$.\n",
    "\n",
    "Dos componentes de este sistema son aleatorios:\n",
    "\n",
    "- El **tiempo** que tarda \"la máquina\" (el sistema) en el estado $i$, que está modelado exponencialmente con un parámetro $\\Omega_i$.\n",
    "- La **transición** que hará de ese estado, que puede ser \"hacia arriba\" ($i+1$) con probabilidad $p_i$ o \"hacia abajo\" ($i-1$) con probabilidad $q_i$.\n",
    "\n",
    "Generalmente es necesario encontrar la expresión para $\\Omega_i$, $p_i$ y $q_i$ en términos de $\\lambda$ y $\\nu$ para conocer mejor la dinámica del sistema."
   ]
  },
  {
   "cell_type": "markdown",
   "metadata": {},
   "source": [
    "---\n",
    "## 2. - Asignaciones del proyecto\n",
    "\n",
    "### 2.1. - Problema de la gasolinera\n",
    "\n",
    "> Supóngase que hay una gasolinera con tres entradas, los autos que entran arriban en forman de una corriente de Poisson con parámetro $\\lambda$. La entrada norte tiene tasa de llegada de dos autos por minuto, la entrada este tiene una intensidad de dos autos por minuto y la entrada sur tiene un parámetro de un auto por minuto. El tiempo de servicio de cada dispensador de gasolina está exponencialmente distribuido con parámetro $\\nu$ autos por minuto. El estado $X_t$ en el tiempo $t$ es la longitud de la cola. Inicialmente, en la gasolinera se enuentran tres dispensadores de gasolina funcionando pero, si la fila sobrepasa los cinco automóviles, abren otros dos dispensadores más. \n",
    "\n",
    "Suponga que el parámetro $\\nu$ es la mediana entre los últimos dígitos del número de carné universitario de quienes realizan este proyecto. Ejemplo: A1384**3**, B8364**8** y C2317**7** tienen una mediana de 7.\n",
    "\n",
    "- (30%) Encuentre los valores $p_i$, $q_i$ y $\\Omega_i$ del espacio de estados anteriormente descrito."
   ]
  },
  {
   "cell_type": "markdown",
   "metadata": {},
   "source": [
    "$$\n",
    "S_i = \\left\\{\n",
    "    \\begin{array}\\\\\n",
    "        \\Omega = \\lambda & p = 1 & q = 0 & \\mbox{si } \\ i = 0 \\\\\n",
    "        \\Omega = \\lambda + 3\\nu & p = \\frac{\\lambda}{\\lambda+3\\nu} & q = \\frac{3\\nu}{\\lambda+3\\nu} & \\mbox{si } \\ 1\\le i\\le5 \\\\\n",
    "        \\Omega = \\lambda + 5\\nu & p = \\frac{\\lambda}{\\lambda+5\\nu} & q = \\frac{5\\nu}{\\lambda+5\\nu} & \\mbox{si } \\ i\\ge5\n",
    "    \\end{array}\n",
    "\\right.\n",
    "$$"
   ]
  },
  {
   "cell_type": "markdown",
   "metadata": {},
   "source": [
    "### 2.2. - Simulaciones\n",
    "\n",
    "- (30%) Diseñe una simulación tal que encuentre la duración promedio del estado $i$ y compárelo con el valor $1/\\Omega_i$ calculado anteriormente, tanto para un número $i$ menor a cinco, como para un número $i$ mayor a cinco."
   ]
  },
  {
   "cell_type": "code",
   "execution_count": 34,
   "metadata": {},
   "outputs": [
    {
     "data": {
      "text/plain": [
       "array([ 1.,  0.,  1.,  2.,  1.,  2.,  3.,  2.,  1.,  0.,  1.,  2.,  3.,\n",
       "        2.,  1.,  0.,  1.,  0.,  1.,  2.,  1.,  2.,  1.,  2.,  1.,  2.,\n",
       "        1.,  0.,  1.,  0.,  1.,  0.,  1.,  0.,  1.,  2.,  1.,  0.,  1.,\n",
       "        0.,  1.,  2.,  1.,  0.,  1.,  0.,  1.,  2.,  3.,  2.,  1.,  2.,\n",
       "        1.,  2.,  3.,  2.,  3.,  4.,  3.,  4.,  5.,  4.,  3.,  4.,  3.,\n",
       "        4.,  3.,  2.,  1.,  2.,  3.,  4.,  3.,  2.,  3.,  2.,  1.,  2.,\n",
       "        1.,  0.,  1.,  0.,  1.,  2.,  3.,  2.,  1.,  0.,  1.,  0.,  1.,\n",
       "        2.,  1.,  0.,  1.,  2.,  1.,  0.,  1.,  0.,  1.,  0.,  1.,  2.,\n",
       "        1.,  2.,  3.,  2.,  1.,  2.,  1.,  0.,  1.,  2.,  1.,  0.,  1.,\n",
       "        2.,  3.,  2.,  3.,  4.,  5.,  4.,  5.,  4.,  3.,  2.,  1.,  2.,\n",
       "        3.,  4.,  5.,  4.,  3.,  2.,  1.,  0.,  1.,  2.,  3.,  4.,  5.,\n",
       "        6.,  5.,  6.,  5.,  4.,  5.,  6.,  5.,  4.,  3.,  2.,  3.,  2.,\n",
       "        1.,  2.,  1.,  0.,  1.,  0.,  1.,  0.,  1.,  2.,  3.,  2.,  3.,\n",
       "        2.,  3.,  4.,  5.,  6.,  5.,  6.,  5.,  4.,  3.,  4.,  5.,  4.,\n",
       "        5.,  6.,  5.,  4.,  5.,  6.,  7.,  8.,  9.,  8.,  7.,  6.,  5.,\n",
       "        4.,  3.,  4.,  5.,  4.,  5.,  4.,  3.,  2.,  1.,  0.,  1.,  2.,\n",
       "        1.,  0.,  1.,  2.,  1.,  0.,  1.,  2.,  3.,  2.,  3.,  4.,  5.,\n",
       "        4.,  3.,  2.,  1.,  2.,  1.,  2.,  3.,  2.,  1.,  2.,  3.,  2.,\n",
       "        1.,  2.,  3.,  4.,  5.,  6.,  7.,  6.,  5.,  4.,  3.,  4.,  5.,\n",
       "        4.,  3.,  2.,  3.,  2.,  3.,  2.,  3.,  2.,  3.,  2.,  1.,  0.,\n",
       "        1.,  2.,  1.,  0.,  1.,  2.,  3.,  4.,  5.,  6.,  7.,  8.,  7.,\n",
       "        8.,  9., 10.,  9.,  8.,  9.,  8.,  7.,  8.,  9.,  8.,  7.,  8.,\n",
       "        7.,  8.,  9., 10.,  9., 10.,  9., 10., 11., 10., 11., 10., 11.,\n",
       "       12., 13., 14., 13., 12., 11., 12., 11., 12., 13., 14., 13., 14.,\n",
       "       13., 14., 13., 14., 15., 16., 15., 14., 15., 14., 13., 14., 15.,\n",
       "       16., 15., 16., 17., 18., 19., 18., 19., 20., 19., 20., 19., 20.,\n",
       "       21., 22., 23., 22., 21., 20., 19., 18., 19., 20., 21., 20., 19.,\n",
       "       20., 19., 18., 19., 20., 19., 18., 17., 16., 17., 16., 17., 18.,\n",
       "       17., 18., 19., 20., 19., 20., 21., 22., 23., 24., 23., 22., 23.,\n",
       "       24., 23., 24., 25., 26., 27., 26., 27., 26., 25., 24., 23., 22.,\n",
       "       23., 22., 21., 22., 21., 22., 23., 22., 21., 22., 21., 22., 21.,\n",
       "       20., 19., 20., 21., 20., 21., 22., 23., 24., 23., 24., 25., 24.,\n",
       "       25., 26., 25., 24., 25., 26., 27., 26., 25., 24., 23., 24., 25.,\n",
       "       26., 25., 26., 27., 28., 27., 28., 27., 26., 27., 28., 29., 28.,\n",
       "       29., 28., 27., 28., 29., 28., 27., 28., 29., 30., 29., 28., 27.,\n",
       "       28., 29., 28., 29., 30., 31., 30., 29., 30., 31., 32., 33., 34.,\n",
       "       33., 32., 31., 32., 31., 32., 33., 34., 33., 32., 33., 32., 33.,\n",
       "       32., 33., 32., 33., 34., 35., 36., 35., 36., 37., 36., 35., 34.,\n",
       "       35., 36., 35., 36., 35., 34., 33., 34., 33., 34., 33., 34., 35.,\n",
       "       34., 35., 34., 33., 32., 33., 32., 31., 32., 33., 34., 35., 34.,\n",
       "       35., 36., 37., 38., 39., 38., 37., 36., 37., 36., 35., 36., 35.,\n",
       "       36., 35., 36., 37., 38., 37., 38., 37., 36., 35., 36., 35., 36.,\n",
       "       37., 38., 39., 38., 39., 38., 37., 36., 35., 36., 35., 36., 35.,\n",
       "       36., 35., 34., 33., 32., 33., 34., 33., 32., 33., 32., 31., 30.,\n",
       "       31., 32., 33., 34., 33., 32., 31., 32., 33., 32., 33., 34., 33.,\n",
       "       34., 33., 34., 35., 34., 33., 32., 31., 30., 31., 32., 31., 30.,\n",
       "       31., 32., 33., 34., 33., 34., 35., 36., 37., 38., 37., 36., 37.,\n",
       "       36., 37., 38., 37., 36., 37., 36., 35., 36., 35., 34., 35., 36.,\n",
       "       37., 38., 39., 38., 37., 38., 37., 38., 39., 38., 37., 36., 35.,\n",
       "       36., 35., 34., 35., 34., 33., 34., 35., 36., 35., 36., 37., 36.,\n",
       "       37., 38., 37., 36., 37., 38., 39., 40., 41., 40., 41., 42., 41.,\n",
       "       42., 41., 42., 41., 42., 43., 44., 43., 42., 43., 42., 41., 40.,\n",
       "       39., 40., 39., 38., 37., 38., 37., 38., 39., 38., 37., 38., 39.,\n",
       "       40., 41., 42., 41., 40., 39., 38., 39., 40., 41., 40., 41., 42.,\n",
       "       41., 42., 41., 42., 41., 40., 41., 40., 39., 38., 39., 38., 37.,\n",
       "       38., 39., 40., 41., 42., 41., 40., 41., 42., 43., 42., 41., 40.,\n",
       "       41., 42., 43., 44., 43., 44., 45., 46., 45., 44., 45., 44., 43.,\n",
       "       42., 41., 42., 41., 42., 41., 40., 41., 40., 41., 40., 41., 40.,\n",
       "       41., 42., 43., 42., 41., 40., 41., 42., 43., 44., 45., 44., 45.,\n",
       "       46., 45., 46., 47., 48., 49., 50., 51., 50., 51., 50., 49., 50.,\n",
       "       51., 50., 51., 52., 53., 54., 53., 54., 55., 56., 57., 58., 57.,\n",
       "       56., 55., 56., 55., 54., 55., 56., 55., 56., 55., 54., 55., 56.,\n",
       "       57., 56., 55., 54., 55., 56., 55., 54., 53., 52., 53., 52., 53.,\n",
       "       54., 53., 54., 53., 54., 53., 52., 51., 50., 51., 50., 51., 50.,\n",
       "       51., 52., 51., 52., 51., 52., 53., 52., 53., 52., 51., 50., 51.,\n",
       "       52., 51., 52., 53., 54., 55., 56., 57., 56., 55., 56., 55., 54.,\n",
       "       53., 54., 55., 56., 57., 58., 57., 58., 57., 56., 57., 58., 57.,\n",
       "       56., 57., 58., 57., 56., 55., 54., 53., 54., 53., 52., 53., 54.,\n",
       "       55., 56., 57., 58., 59., 58., 59., 60., 61., 60., 59., 58., 57.,\n",
       "       58., 57., 56., 55., 56., 55., 54., 53., 52., 51., 50., 51., 52.,\n",
       "       51., 50., 51., 50., 51., 52., 51., 52., 51., 52., 51., 52., 51.,\n",
       "       50., 49., 50., 49., 50., 49., 48., 47., 46., 45., 46., 45., 44.,\n",
       "       45., 46., 45., 46., 45., 44., 45., 46., 47., 46., 47., 48., 49.,\n",
       "       50., 49., 48., 47., 46., 45., 44., 43., 42., 41., 42., 43., 44.,\n",
       "       43., 42., 43., 42., 43., 42., 43., 42., 43., 42., 43., 42., 41.,\n",
       "       42., 43., 44., 45., 44., 43., 44., 45., 46., 47., 46., 47., 48.,\n",
       "       49., 48., 47., 48., 47., 46., 45., 44., 43., 44., 43., 44.])"
      ]
     },
     "execution_count": 34,
     "metadata": {},
     "output_type": "execute_result"
    }
   ],
   "source": [
    "import numpy as np\n",
    "\n",
    "def random_walk(muestras):\n",
    "    estados = np.zeros(muestras)\n",
    "    a = 0.5 # Probabilidad estado $+1\n",
    "    b = 0.5 # Probabilidad estado $-1\n",
    "\n",
    "    start_state = 0\n",
    "    prev_state = start_state\n",
    "\n",
    "    for i in range(muestras):\n",
    "        if prev_state == 0:\n",
    "            curr_state = 1 # únicamente puede crecer la cola\n",
    "\n",
    "        elif 1 <= prev_state <= 5:\n",
    "            curr_state = np.random.choice((prev_state-1, curr_state + 1), p = (b, a)) # np.random.choice(evento, prob)\n",
    "        \n",
    "        else:\n",
    "            curr_state = np.random.choice((prev_state-1, curr_state + 1), p = (b, a))\n",
    "        \n",
    "        estados[i] = curr_state\n",
    "        prev_state = curr_state\n",
    "    \n",
    "    return estados\n",
    "\n",
    "random_walk(1000)"
   ]
  },
  {
   "cell_type": "markdown",
   "metadata": {},
   "source": [
    "- (40%) Diseñe una simulación tal que muestre, por medio de una gráfica, la longitud de la cola a lo largo de 30 minutos."
   ]
  },
  {
   "cell_type": "code",
   "execution_count": null,
   "metadata": {},
   "outputs": [],
   "source": []
  },
  {
   "cell_type": "markdown",
   "metadata": {},
   "source": [
    "---\n",
    "**Universidad de Costa Rica** | Facultad de Ingeniería | Escuela de Ingeniería Eléctrica\n",
    "\n",
    "&copy; 2022\n",
    "\n",
    "---"
   ]
  }
 ],
 "metadata": {
  "kernelspec": {
   "display_name": "Python 3.9.13 64-bit (windows store)",
   "language": "python",
   "name": "python3"
  },
  "language_info": {
   "codemirror_mode": {
    "name": "ipython",
    "version": 3
   },
   "file_extension": ".py",
   "mimetype": "text/x-python",
   "name": "python",
   "nbconvert_exporter": "python",
   "pygments_lexer": "ipython3",
   "version": "3.9.13"
  },
  "vscode": {
   "interpreter": {
    "hash": "f1cbd2c1ebec57118c9d1a20ed82caf47ef35066f587f8e9716935707992507d"
   }
  }
 },
 "nbformat": 4,
 "nbformat_minor": 2
}
